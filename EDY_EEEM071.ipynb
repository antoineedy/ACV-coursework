{
  "cells": [
    {
      "cell_type": "markdown",
      "metadata": {
        "id": "mIwOOmCRFbPt"
      },
      "source": [
        "# Step 1: GPU Selection\n",
        "1. Find \"Edit\" tab above, select \"Hardware accelerator\" and choose \"GPU\"\n",
        "2. Run bellow command to check what GPU you got"
      ]
    },
    {
      "cell_type": "markdown",
      "metadata": {
        "id": "hMXZpWVjGL18"
      },
      "source": [
        "# Step 2: Code Preparation\n",
        "\n",
        "We need to maintain our codebase with git history, so a file system (Google Drive) is needed\n",
        "1. Select the left file icon and mount your Google Drive\n",
        "2. Move path to Google Drive\n",
        "3. Git clone code base\n"
      ]
    },
    {
      "cell_type": "code",
      "execution_count": 4,
      "metadata": {
        "id": "EbjSh6_1GZg4"
      },
      "outputs": [
        {
          "name": "stdout",
          "output_type": "stream",
          "text": [
            "==========\n",
            "Student ID:6797948\n",
            "Student name:Antoine EDY\n",
            "UUID:499af178-b6b5-450a-a21e-aacc252b9212\n",
            "Experiment time:2024-04-23 17:55:39\n",
            "==========\n",
            "==========\n",
            "Args:Namespace(root='datasets', source_names=['veri'], target_names=['veri'], workers=4, split_id=0, height=224, width=224, train_sampler='RandomSampler', random_erase=False, color_jitter=False, color_aug=False, optim='amsgrad', lr=0.0003, weight_decay=0.0005, momentum=0.9, sgd_dampening=0, sgd_nesterov=False, rmsprop_alpha=0.99, adam_beta1=0.9, adam_beta2=0.999, max_epoch=10, start_epoch=0, train_batch_size=64, test_batch_size=100, lr_scheduler='multi_step', stepsize=[20, 40], gamma=0.1, label_smooth=False, margin=0.3, num_instances=4, lambda_xent=1, lambda_htri=1, arch='mobilenet_v3_small', no_pretrained=False, load_weights='', evaluate=False, eval_freq=-1, start_eval=0, test_size=800, query_remove=True, print_freq=10, seed=1, resume='', save_dir='logs/mobilenet_v3_small-veri', use_cpu=False, gpu_devices='0', visualize_ranks=False, use_avai_gpus=False)\n",
            "==========\n",
            "/Users/antoineedy/Documents/MScAI/Semester2/AdvancedCV/Coursework/main.py:65: UserWarning: Currently using CPU, however, GPU is highly recommended\n",
            "  warnings.warn(\"Currently using CPU, however, GPU is highly recommended\")\n",
            "Initializing image data manager\n",
            "=> Initializing TRAIN (source) datasets\n",
            "=> VeRi loaded\n",
            "Image Dataset statistics:\n",
            "  ----------------------------------------\n",
            "  subset   | # ids | # images | # cameras\n",
            "  ----------------------------------------\n",
            "  train    |   576 |    37778 |        20\n",
            "  query    |   200 |     1678 |        19\n",
            "  gallery  |   200 |    11579 |        19\n",
            "  ----------------------------------------\n",
            "=> Initializing TEST (target) datasets\n",
            "=> VeRi loaded\n",
            "Image Dataset statistics:\n",
            "  ----------------------------------------\n",
            "  subset   | # ids | # images | # cameras\n",
            "  ----------------------------------------\n",
            "  train    |   576 |    37778 |        20\n",
            "  query    |   200 |     1678 |        19\n",
            "  gallery  |   200 |    11579 |        19\n",
            "  ----------------------------------------\n",
            "\n",
            "\n",
            "  **************** Summary ****************\n",
            "  train names      : ['veri']\n",
            "  # train datasets : 1\n",
            "  # train ids      : 576\n",
            "  # train images   : 37778\n",
            "  # train cameras  : 20\n",
            "  test names       : ['veri']\n",
            "  *****************************************\n",
            "\n",
            "\n",
            "Initializing model: mobilenet_v3_small\n",
            "/Users/antoineedy/Documents/MScAI/Semester2/AdvancedCV/Coursework/lib/python3.10/site-packages/torchvision/models/_utils.py:208: UserWarning: The parameter 'pretrained' is deprecated since 0.13 and may be removed in the future, please use 'weights' instead.\n",
            "  warnings.warn(\n",
            "/Users/antoineedy/Documents/MScAI/Semester2/AdvancedCV/Coursework/lib/python3.10/site-packages/torchvision/models/_utils.py:223: UserWarning: Arguments other than a weight enum or `None` for 'weights' are deprecated since 0.13 and may be removed in the future. The current behavior is equivalent to passing `weights=MobileNet_V3_Small_Weights.IMAGENET1K_V1`. You can also use `weights=MobileNet_V3_Small_Weights.DEFAULT` to get the most up-to-date weights.\n",
            "  warnings.warn(msg)\n",
            "Downloading: \"https://download.pytorch.org/models/mobilenet_v3_small-047dcff4.pth\" to /Users/antoineedy/.cache/torch/hub/checkpoints/mobilenet_v3_small-047dcff4.pth\n",
            "100%|██████████████████████████████████████| 9.83M/9.83M [00:00<00:00, 18.1MB/s]\n",
            "Model size: 0.927 M\n",
            "=> Start training\n",
            "Epoch: [1][10/590]\tTime 4.894 (5.838)\tData 0.0014 (0.4637)\tXent 6.4547 (6.3998)\tHtri 0.1180 (0.2133)\tAcc 0.00 (0.16)\t\n",
            "Epoch: [1][20/590]\tTime 4.931 (5.400)\tData 0.0010 (0.2325)\tXent 6.2414 (6.3552)\tHtri 0.1279 (0.2151)\tAcc 0.00 (0.23)\t\n",
            "Epoch: [1][30/590]\tTime 7.120 (5.657)\tData 0.0016 (0.1555)\tXent 6.3370 (6.3226)\tHtri 0.1484 (0.2029)\tAcc 1.56 (0.68)\t\n",
            "^C\n"
          ]
        }
      ],
      "source": [
        "!STUDENT_ID=6797948 STUDENT_NAME=\"Antoine EDY\" python main.py \\\n",
        "-s veri \\\n",
        "-t veri \\\n",
        "-a mobilenet_v3_small \\\n",
        "--root datasets \\\n",
        "--height 224 \\\n",
        "--width 224 \\\n",
        "--optim amsgrad \\\n",
        "--lr 0.0003 \\\n",
        "--max-epoch 10 \\\n",
        "--stepsize 20 40 \\\n",
        "--train-batch-size 64 \\\n",
        "--test-batch-size 100 \\\n",
        "--save-dir logs/mobilenet_v3_small-veri"
      ]
    },
    {
      "cell_type": "markdown",
      "metadata": {
        "id": "PKxqyUV3GbJp"
      },
      "source": [
        "# Step 5: Test Trained Model\n",
        "\n",
        "We are now evaluating off-the-shelf ImageNet-pretrained mobilenet_v3_small"
      ]
    },
    {
      "cell_type": "code",
      "execution_count": 2,
      "metadata": {
        "id": "WdJ8VZdjGcgB"
      },
      "outputs": [
        {
          "name": "stdout",
          "output_type": "stream",
          "text": [
            "==========\n",
            "Student ID:aa00794\n",
            "Student name:JaneX DoeX\n",
            "UUID:f0d95562-61ca-4d88-bfae-f67d290ef113\n",
            "Experiment time:2024-04-23 17:54:38\n",
            "==========\n",
            "==========\n",
            "Args:Namespace(root='/content', source_names=['veri'], target_names=['veri'], workers=4, split_id=0, height=224, width=224, train_sampler='RandomSampler', random_erase=False, color_jitter=False, color_aug=False, optim='adam', lr=0.0003, weight_decay=0.0005, momentum=0.9, sgd_dampening=0, sgd_nesterov=False, rmsprop_alpha=0.99, adam_beta1=0.9, adam_beta2=0.999, max_epoch=60, start_epoch=0, train_batch_size=32, test_batch_size=100, lr_scheduler='multi_step', stepsize=[20, 40], gamma=0.1, label_smooth=False, margin=0.3, num_instances=4, lambda_xent=1, lambda_htri=1, arch='mobilenet_v3_small', no_pretrained=False, load_weights='logs/mobilenet_v3_small-veri/model.pth.tar', evaluate=True, eval_freq=-1, start_eval=0, test_size=800, query_remove=True, print_freq=10, seed=1, resume='', save_dir='logs/mobilenet_v3_small-veri', use_cpu=False, gpu_devices='0', visualize_ranks=False, use_avai_gpus=False)\n",
            "==========\n",
            "/Users/antoineedy/Documents/MScAI/Semester2/AdvancedCV/Coursework/main.py:65: UserWarning: Currently using CPU, however, GPU is highly recommended\n",
            "  warnings.warn(\"Currently using CPU, however, GPU is highly recommended\")\n",
            "Initializing image data manager\n",
            "=> Initializing TRAIN (source) datasets\n",
            "Traceback (most recent call last):\n",
            "  File \"/Users/antoineedy/Documents/MScAI/Semester2/AdvancedCV/Coursework/main.py\", line 329, in <module>\n",
            "    main()\n",
            "  File \"/Users/antoineedy/Documents/MScAI/Semester2/AdvancedCV/Coursework/main.py\", line 68, in main\n",
            "    dm = ImageDataManager(use_gpu, **dataset_kwargs(args))\n",
            "  File \"/Users/antoineedy/Documents/MScAI/Semester2/AdvancedCV/Coursework/src/data_manager.py\", line 93, in __init__\n",
            "    dataset = init_imgreid_dataset(root=self.root, name=name)\n",
            "  File \"/Users/antoineedy/Documents/MScAI/Semester2/AdvancedCV/Coursework/src/datasets/__init__.py\", line 19, in init_imgreid_dataset\n",
            "    return __imgreid_factory[name](**kwargs)\n",
            "  File \"/Users/antoineedy/Documents/MScAI/Semester2/AdvancedCV/Coursework/src/datasets/veri.py\", line 31, in __init__\n",
            "    self.check_before_run()\n",
            "  File \"/Users/antoineedy/Documents/MScAI/Semester2/AdvancedCV/Coursework/src/datasets/veri.py\", line 64, in check_before_run\n",
            "    raise RuntimeError(f'\"{self.dataset_dir}\" is not available')\n",
            "RuntimeError: \"/content/VeRi\" is not available\n"
          ]
        }
      ],
      "source": [
        "!STUDENT_ID=6797948 STUDENT_NAME=\"Antoine EDY\" python main.py \\\n",
        "-s veri \\\n",
        "-t veri \\\n",
        "-a mobilenet_v3_small \\\n",
        "--root /content \\\n",
        "--height 224 \\\n",
        "--width 224 \\\n",
        "--test-batch-size 100 \\\n",
        "--evaluate \\\n",
        "--save-dir logs/mobilenet_v3_small-veri \\\n",
        "--load-weights logs/mobilenet_v3_small-veri/model.pth.tar"
      ]
    }
  ],
  "metadata": {
    "accelerator": "GPU",
    "colab": {
      "gpuType": "T4",
      "provenance": []
    },
    "kernelspec": {
      "display_name": "Python 3",
      "name": "python3"
    },
    "language_info": {
      "codemirror_mode": {
        "name": "ipython",
        "version": 3
      },
      "file_extension": ".py",
      "mimetype": "text/x-python",
      "name": "python",
      "nbconvert_exporter": "python",
      "pygments_lexer": "ipython3",
      "version": "3.10.12"
    }
  },
  "nbformat": 4,
  "nbformat_minor": 0
}
